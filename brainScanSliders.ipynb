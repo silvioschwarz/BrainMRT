{
  "cells": [
    {
      "cell_type": "code",
      "source": [
        "import plotly.plotly as py\n",
        "import numpy as np\n",
        "from plotly import __version__\n",
        "from plotly.offline import download_plotlyjs, init_notebook_mode, plot, iplot\n",
        "\n",
        "init_notebook_mode(connected=True)\n",
        "\n",
        "print __version__ # requires version >= 1.9.0\n",
        "\n",
        "data = [dict(\n",
        "        visible = False,\n",
        "        line=dict(color='#00CED1', width=6),\n",
        "        name = '𝜈 = '+str(step),\n",
        "        x = np.arange(0,10,0.01),\n",
        "        y = np.sin(step*np.arange(0,10,0.01))) for step in np.arange(0,5,0.1)]\n",
        "data[10]['visible'] = True\n",
        "\n",
        "steps = []\n",
        "for i in range(len(data)):\n",
        "    step = dict(\n",
        "        method = 'restyle',  \n",
        "        args = ['visible', [False] * len(data)],\n",
        "    )\n",
        "    step['args'][1][i] = True # Toggle i'th trace to \"visible\"\n",
        "    steps.append(step)\n",
        "\n",
        "sliders = [dict(\n",
        "    active = 10,\n",
        "    currentvalue = {\"prefix\": \"Frequency: \"},\n",
        "    pad = {\"t\": 50},\n",
        "    steps = steps\n",
        ")]\n",
        "\n",
        "layout = dict(sliders=sliders)\n",
        "\n",
        "fig = dict(data=data, layout=layout)\n",
        "\n",
        "iplot(fig, filename='Sine Wave Slider')\n",
        "\n",
        "#plotly.offline.plot({\n",
        "#    \"data\": data,\n",
        "#    \"layout\": go.Layout(title=\"hello world\")\n",
        "#}, auto_open=True)"
      ],
      "outputs": [],
      "execution_count": null,
      "metadata": {
        "collapsed": false,
        "outputHidden": false,
        "inputHidden": false
      }
    }
  ],
  "metadata": {
    "kernel_info": {
      "name": "python3"
    },
    "language_info": {
      "mimetype": "text/x-python",
      "nbconvert_exporter": "python",
      "name": "python",
      "pygments_lexer": "ipython2",
      "version": "2.7.15rc1",
      "file_extension": ".py",
      "codemirror_mode": {
        "version": 2,
        "name": "ipython"
      }
    },
    "kernelspec": {
      "name": "python3",
      "language": "python",
      "display_name": "Python 3"
    },
    "nteract": {
      "version": "0.12.3"
    }
  },
  "nbformat": 4,
  "nbformat_minor": 4
}