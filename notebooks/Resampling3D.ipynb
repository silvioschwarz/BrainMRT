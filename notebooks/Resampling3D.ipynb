{
 "cells": [
  {
   "cell_type": "code",
   "execution_count": 12,
   "metadata": {},
   "outputs": [
    {
     "data": {
      "text/html": [
       "<script type=\"text/javascript\">window.PlotlyConfig = {MathJaxConfig: 'local'};</script><script type=\"text/javascript\">if (window.MathJax) {MathJax.Hub.Config({SVG: {font: \"STIX-Web\"}});}</script><script>requirejs.config({paths: { 'plotly': ['https://cdn.plot.ly/plotly-latest.min']},});if(!window._Plotly) {require(['plotly'],function(plotly) {window._Plotly=plotly;});}</script>"
      ],
      "text/vnd.plotly.v1+html": [
       "<script type=\"text/javascript\">window.PlotlyConfig = {MathJaxConfig: 'local'};</script><script type=\"text/javascript\">if (window.MathJax) {MathJax.Hub.Config({SVG: {font: \"STIX-Web\"}});}</script><script>requirejs.config({paths: { 'plotly': ['https://cdn.plot.ly/plotly-latest.min']},});if(!window._Plotly) {require(['plotly'],function(plotly) {window._Plotly=plotly;});}</script>"
      ]
     },
     "metadata": {},
     "output_type": "display_data"
    },
    {
     "name": "stdout",
     "output_type": "stream",
     "text": [
      "/home/silvio/Dokumente/GitHub/BrainMRT\n"
     ]
    }
   ],
   "source": [
    "#%matplotlib inline\n",
    "#%reload_ext signature\n",
    "\n",
    "import numpy as np\n",
    "import dicom\n",
    "import os\n",
    "import matplotlib.pyplot as plt\n",
    "from glob import glob\n",
    "from mpl_toolkits.mplot3d.art3d import Poly3DCollection\n",
    "import scipy.ndimage\n",
    "from skimage import morphology\n",
    "from skimage import measure\n",
    "from skimage.transform import resize\n",
    "from sklearn.cluster import KMeans\n",
    "from plotly import __version__\n",
    "from plotly.offline import download_plotlyjs, init_notebook_mode, plot, iplot\n",
    "from plotly.tools import FigureFactory as FF\n",
    "from plotly.graph_objs import *\n",
    "init_notebook_mode(connected=True) \n",
    "\n",
    "import matplotlib.image as img\n",
    "WD = os.getcwd()\n",
    "print(WD)"
   ]
  },
  {
   "cell_type": "code",
   "execution_count": 14,
   "metadata": {},
   "outputs": [
    {
     "data": {
      "text/plain": [
       "['/home/silvio/Dokumente/GitHub/BrainMRT/DICOM/ST000000/SE000002',\n",
       " '/home/silvio/Dokumente/GitHub/BrainMRT/DICOM/ST000000/SE000000',\n",
       " '/home/silvio/Dokumente/GitHub/BrainMRT/DICOM/ST000000/SE000001',\n",
       " '/home/silvio/Dokumente/GitHub/BrainMRT/DICOM/ST000000/SE000004',\n",
       " '/home/silvio/Dokumente/GitHub/BrainMRT/DICOM/ST000000/SE000006',\n",
       " '/home/silvio/Dokumente/GitHub/BrainMRT/DICOM/ST000000/SE000009',\n",
       " '/home/silvio/Dokumente/GitHub/BrainMRT/DICOM/ST000000/SE000013',\n",
       " '/home/silvio/Dokumente/GitHub/BrainMRT/DICOM/ST000000/SE000018',\n",
       " '/home/silvio/Dokumente/GitHub/BrainMRT/DICOM/ST000000/SE000003',\n",
       " '/home/silvio/Dokumente/GitHub/BrainMRT/DICOM/ST000000/SE000008',\n",
       " '/home/silvio/Dokumente/GitHub/BrainMRT/DICOM/ST000000/SE000014',\n",
       " '/home/silvio/Dokumente/GitHub/BrainMRT/DICOM/ST000000/SE000015',\n",
       " '/home/silvio/Dokumente/GitHub/BrainMRT/DICOM/ST000000/SE000016',\n",
       " '/home/silvio/Dokumente/GitHub/BrainMRT/DICOM/ST000000/SE000007',\n",
       " '/home/silvio/Dokumente/GitHub/BrainMRT/DICOM/ST000000/SE000010',\n",
       " '/home/silvio/Dokumente/GitHub/BrainMRT/DICOM/ST000000/SE000005',\n",
       " '/home/silvio/Dokumente/GitHub/BrainMRT/DICOM/ST000000/SE000012',\n",
       " '/home/silvio/Dokumente/GitHub/BrainMRT/DICOM/ST000000/SE000017',\n",
       " '/home/silvio/Dokumente/GitHub/BrainMRT/DICOM/ST000000/SE000019',\n",
       " '/home/silvio/Dokumente/GitHub/BrainMRT/DICOM/ST000000/SE000011']"
      ]
     },
     "execution_count": 14,
     "metadata": {},
     "output_type": "execute_result"
    }
   ],
   "source": [
    "series = [g for g in glob(WD + \"/DICOM/ST000000/*\")]\n",
    "series"
   ]
  },
  {
   "cell_type": "code",
   "execution_count": 101,
   "metadata": {},
   "outputs": [],
   "source": [
    "def load_scan(path):\n",
    "    slices = [dicom.read_file(path + '/' + s) for s in os.listdir(path)]\n",
    "    slices.sort(key = lambda x: int(x.InstanceNumber))\n",
    "    try:\n",
    "        slice_thickness = np.abs(slices[0].ImagePositionPatient[2] - slices[1].ImagePositionPatient[2])\n",
    "    except:\n",
    "        slice_thickness = np.abs(slices[0].SliceLocation - slices[1].SliceLocation)\n",
    "        \n",
    "    for s in slices:\n",
    "        s.SliceThickness = slice_thickness\n",
    "        \n",
    "    return slices\n",
    "\n",
    "def get_pixels_hu(scans):\n",
    "    image = np.stack([s.pixel_array for s in scans])\n",
    "    # Convert to int16 (from sometimes int16), \n",
    "    # should be possible as values should always be low enough (<32k)\n",
    "    image = image.astype(np.int16)\n",
    "\n",
    "    # Set outside-of-scan pixels to 1\n",
    "    # The intercept is usually -1024, so air is approximately 0\n",
    "    image[image == -2000] = 0\n",
    "    \n",
    "    # Convert to Hounsfield units (HU)\n",
    "    #intercept = -1024\n",
    "    #slope = 1\n",
    "    #intercept = scans[0].RescaleIntercept\n",
    "    #slope = scans[0].RescaleSlope\n",
    "    \n",
    "    #if slope != 1:\n",
    "    #    image = slope * image.astype(np.float64)\n",
    "    #    image = image.astype(np.int16)\n",
    "        \n",
    "    #image += np.int16(intercept)\n",
    "    \n",
    "    return np.array(image, dtype=np.int16)\n",
    "\n",
    "\n",
    "outputPath = \"./data/\"\n",
    "\n",
    "series = [g for g in glob(WD + \"/DICOM/ST000000/*\")]\n",
    "series.sort()\n",
    "\n",
    "for i in list([1,2,3,4,5,6,7,8,9,10,11,12,13,14]):\n",
    "    id=0\n",
    "    patient = load_scan(series[i])\n",
    "    imgs = get_pixels_hu(patient)\n",
    "\n",
    "    np.save(outputPath + \"fullImages/\"+\"fullimages_%d_%d.npy\" % (id, i), imgs)\n",
    "    \n",
    "    \n",
    "    "
   ]
  },
  {
   "cell_type": "code",
   "execution_count": 102,
   "metadata": {},
   "outputs": [
    {
     "name": "stdout",
     "output_type": "stream",
     "text": [
      "Shape before resampling\t (5, 162, 162)\n",
      "Shape after resampling\t (12, 42, 42)\n",
      "Shape before resampling\t (3, 162, 162)\n",
      "Shape after resampling\t (8, 42, 42)\n",
      "Shape before resampling\t (3, 162, 162)\n",
      "Shape after resampling\t (8, 42, 42)\n",
      "Shape before resampling\t (27, 512, 512)\n",
      "Shape after resampling\t (68, 133, 133)\n",
      "Shape before resampling\t (25, 1098, 1098)\n",
      "Shape after resampling\t (62, 286, 286)\n",
      "Shape before resampling\t (71, 122, 122)\n",
      "Shape after resampling\t (178, 32, 32)\n",
      "Shape before resampling\t (71, 122, 122)\n",
      "Shape after resampling\t (178, 32, 32)\n",
      "Shape before resampling\t (36, 256, 256)\n",
      "Shape after resampling\t (90, 67, 67)\n",
      "Shape before resampling\t (39, 384, 384)\n",
      "Shape after resampling\t (98, 100, 100)\n",
      "Shape before resampling\t (192, 256, 256)\n",
      "Shape after resampling\t (480, 67, 67)\n",
      "Shape before resampling\t (170, 256, 256)\n",
      "Shape after resampling\t (425, 67, 67)\n",
      "Shape before resampling\t (170, 256, 256)\n",
      "Shape after resampling\t (425, 67, 67)\n",
      "Shape before resampling\t (26, 288, 288)\n",
      "Shape after resampling\t (65, 75, 75)\n",
      "Shape before resampling\t (149, 768, 696)\n",
      "Shape after resampling\t (372, 200, 181)\n"
     ]
    }
   ],
   "source": [
    "def load_scan(path):\n",
    "    slices = [dicom.read_file(path + '/' + s) for s in os.listdir(path)]\n",
    "    slices.sort(key = lambda x: int(x.InstanceNumber))\n",
    "    try:\n",
    "        slice_thickness = np.abs(slices[0].ImagePositionPatient[2] - slices[1].ImagePositionPatient[2])\n",
    "    except:\n",
    "        slice_thickness = np.abs(slices[0].SliceLocation - slices[1].SliceLocation)\n",
    "        \n",
    "    for s in slices:\n",
    "        s.SliceThickness = slice_thickness\n",
    "        \n",
    "    return slices\n",
    "\n",
    "outputPath = \"./data/\"\n",
    "\n",
    "def resample(image, scan, new_spacing=[1,1,1]):\n",
    "    # Determine current pixel spacing\n",
    "#    spacing = map(float, ([scan[0].SliceThickness] + scan[0].PixelSpacing))\n",
    "    spacing = map(float, ([2.5] + scan[0].PixelSpacing)) #guessed\n",
    "    spacing = np.array(list(spacing))\n",
    "\n",
    "    resize_factor = spacing / new_spacing\n",
    "    new_real_shape = image.shape * resize_factor\n",
    "    new_shape = np.round(new_real_shape)\n",
    "    real_resize_factor = new_shape / image.shape\n",
    "    new_spacing = spacing / real_resize_factor\n",
    "    \n",
    "    image = scipy.ndimage.interpolation.zoom(image, real_resize_factor)\n",
    "    \n",
    "    return image, new_spacing\n",
    "\n",
    "id = 0\n",
    "for i in list([1,2,3,4,5,6,7,8,9,10,11,12,13,14]):\n",
    "    images = np.load(outputPath+\"fullImages/\"+'fullimages_{}_{}.npy'.format(id,i))\n",
    "    print(\"Shape before resampling\\t\", images.shape)\n",
    "    images_resamp, spacing = resample(images, patient, [1,1,1])\n",
    "    print (\"Shape after resampling\\t\", images_resamp.shape)\n",
    "    np.save(outputPath +\"resampledImages/\"+ \"resampled_images_%d_%d.npy\" % (id, i), images_resamp)\n",
    "\n"
   ]
  },
  {
   "cell_type": "code",
   "execution_count": null,
   "metadata": {},
   "outputs": [],
   "source": []
  }
 ],
 "metadata": {
  "kernelspec": {
   "display_name": "Python 3",
   "language": "python",
   "name": "python3"
  },
  "language_info": {
   "codemirror_mode": {
    "name": "ipython",
    "version": 3
   },
   "file_extension": ".py",
   "mimetype": "text/x-python",
   "name": "python",
   "nbconvert_exporter": "python",
   "pygments_lexer": "ipython3",
   "version": "3.6.7"
  }
 },
 "nbformat": 4,
 "nbformat_minor": 2
}
