{
  "cells": [
    {
      "cell_type": "code",
      "source": [
        "import numpy as np\n",
        "import pydicom\n",
        "print (pydicom.__version__)\n",
        "import plotly as py\n",
        "import os, sys\n",
        "#py.sign_in('empet', '')\n",
        "\n",
        "from plotly.offline import download_plotlyjs, init_notebook_mode,  iplot, plot\n",
        "init_notebook_mode(connected=True)\n",
        "\n",
        "WD = os.getcwd()\n",
        "print(WD)\n",
        "\n\n",
        "outputPath = \"./data/\"\n",
        "\n",
        "import glob\n",
        "list_of_files = glob.glob('./DICOM/ST000000/SE000000/*')\n",
        "list_of_files\n"
      ],
      "outputs": [
        {
          "output_type": "stream",
          "name": "stdout",
          "text": [
            "1.2.2\n"
          ]
        },
        {
          "output_type": "display_data",
          "data": {
            "text/vnd.plotly.v1+html": [
              "<script type=\"text/javascript\">window.PlotlyConfig = {MathJaxConfig: 'local'};</script><script type=\"text/javascript\">if (window.MathJax) {MathJax.Hub.Config({SVG: {font: \"STIX-Web\"}});}</script><script>requirejs.config({paths: { 'plotly': ['https://cdn.plot.ly/plotly-latest.min']},});if(!window._Plotly) {require(['plotly'],function(plotly) {window._Plotly=plotly;});}</script>"
            ],
            "text/html": [
              "<script type=\"text/javascript\">window.PlotlyConfig = {MathJaxConfig: 'local'};</script><script type=\"text/javascript\">if (window.MathJax) {MathJax.Hub.Config({SVG: {font: \"STIX-Web\"}});}</script><script>requirejs.config({paths: { 'plotly': ['https://cdn.plot.ly/plotly-latest.min']},});if(!window._Plotly) {require(['plotly'],function(plotly) {window._Plotly=plotly;});}</script>"
            ]
          },
          "metadata": {}
        },
        {
          "output_type": "stream",
          "name": "stdout",
          "text": [
            "/home/silvio/Dokumente/GitHub/BrainMRT\n"
          ]
        },
        {
          "output_type": "execute_result",
          "execution_count": 7,
          "data": {
            "text/plain": [
              "['./DICOM/ST000000/SE000000/MR000094',\n",
              " './DICOM/ST000000/SE000000/MR000089',\n",
              " './DICOM/ST000000/SE000000/MR000009',\n",
              " './DICOM/ST000000/SE000000/MR000030',\n",
              " './DICOM/ST000000/SE000000/MR000045',\n",
              " './DICOM/ST000000/SE000000/MR000035',\n",
              " './DICOM/ST000000/SE000000/MR000111',\n",
              " './DICOM/ST000000/SE000000/MR000048',\n",
              " './DICOM/ST000000/SE000000/MR000015',\n",
              " './DICOM/ST000000/SE000000/MR000057',\n",
              " './DICOM/ST000000/SE000000/MR000059',\n",
              " './DICOM/ST000000/SE000000/MR000075',\n",
              " './DICOM/ST000000/SE000000/MR000079',\n",
              " './DICOM/ST000000/SE000000/MR000100',\n",
              " './DICOM/ST000000/SE000000/MR000092',\n",
              " './DICOM/ST000000/SE000000/MR000006',\n",
              " './DICOM/ST000000/SE000000/MR000040',\n",
              " './DICOM/ST000000/SE000000/MR000052',\n",
              " './DICOM/ST000000/SE000000/MR000002',\n",
              " './DICOM/ST000000/SE000000/MR000013',\n",
              " './DICOM/ST000000/SE000000/MR000118',\n",
              " './DICOM/ST000000/SE000000/MR000031',\n",
              " './DICOM/ST000000/SE000000/MR000004',\n",
              " './DICOM/ST000000/SE000000/MR000086',\n",
              " './DICOM/ST000000/SE000000/MR000046',\n",
              " './DICOM/ST000000/SE000000/MR000060',\n",
              " './DICOM/ST000000/SE000000/MR000115',\n",
              " './DICOM/ST000000/SE000000/MR000110',\n",
              " './DICOM/ST000000/SE000000/MR000069',\n",
              " './DICOM/ST000000/SE000000/MR000041',\n",
              " './DICOM/ST000000/SE000000/MR000098',\n",
              " './DICOM/ST000000/SE000000/MR000082',\n",
              " './DICOM/ST000000/SE000000/MR000121',\n",
              " './DICOM/ST000000/SE000000/MR000027',\n",
              " './DICOM/ST000000/SE000000/MR000101',\n",
              " './DICOM/ST000000/SE000000/MR000054',\n",
              " './DICOM/ST000000/SE000000/MR000108',\n",
              " './DICOM/ST000000/SE000000/MR000003',\n",
              " './DICOM/ST000000/SE000000/MR000021',\n",
              " './DICOM/ST000000/SE000000/MR000085',\n",
              " './DICOM/ST000000/SE000000/MR000043',\n",
              " './DICOM/ST000000/SE000000/MR000028',\n",
              " './DICOM/ST000000/SE000000/MR000032',\n",
              " './DICOM/ST000000/SE000000/MR000064',\n",
              " './DICOM/ST000000/SE000000/MR000026',\n",
              " './DICOM/ST000000/SE000000/MR000051',\n",
              " './DICOM/ST000000/SE000000/MR000093',\n",
              " './DICOM/ST000000/SE000000/MR000036',\n",
              " './DICOM/ST000000/SE000000/MR000039',\n",
              " './DICOM/ST000000/SE000000/MR000012',\n",
              " './DICOM/ST000000/SE000000/MR000037',\n",
              " './DICOM/ST000000/SE000000/MR000078',\n",
              " './DICOM/ST000000/SE000000/MR000077',\n",
              " './DICOM/ST000000/SE000000/MR000088',\n",
              " './DICOM/ST000000/SE000000/MR000127',\n",
              " './DICOM/ST000000/SE000000/MR000065',\n",
              " './DICOM/ST000000/SE000000/MR000067',\n",
              " './DICOM/ST000000/SE000000/MR000034',\n",
              " './DICOM/ST000000/SE000000/MR000066',\n",
              " './DICOM/ST000000/SE000000/MR000022',\n",
              " './DICOM/ST000000/SE000000/MR000072',\n",
              " './DICOM/ST000000/SE000000/MR000080',\n",
              " './DICOM/ST000000/SE000000/MR000117',\n",
              " './DICOM/ST000000/SE000000/MR000107',\n",
              " './DICOM/ST000000/SE000000/MR000063',\n",
              " './DICOM/ST000000/SE000000/MR000029',\n",
              " './DICOM/ST000000/SE000000/MR000112',\n",
              " './DICOM/ST000000/SE000000/MR000017',\n",
              " './DICOM/ST000000/SE000000/MR000096',\n",
              " './DICOM/ST000000/SE000000/MR000074',\n",
              " './DICOM/ST000000/SE000000/MR000090',\n",
              " './DICOM/ST000000/SE000000/MR000056',\n",
              " './DICOM/ST000000/SE000000/MR000019',\n",
              " './DICOM/ST000000/SE000000/MR000023',\n",
              " './DICOM/ST000000/SE000000/MR000011',\n",
              " './DICOM/ST000000/SE000000/MR000099',\n",
              " './DICOM/ST000000/SE000000/MR000070',\n",
              " './DICOM/ST000000/SE000000/MR000106',\n",
              " './DICOM/ST000000/SE000000/MR000095',\n",
              " './DICOM/ST000000/SE000000/MR000071',\n",
              " './DICOM/ST000000/SE000000/MR000105',\n",
              " './DICOM/ST000000/SE000000/MR000124',\n",
              " './DICOM/ST000000/SE000000/MR000068',\n",
              " './DICOM/ST000000/SE000000/MR000123',\n",
              " './DICOM/ST000000/SE000000/MR000007',\n",
              " './DICOM/ST000000/SE000000/MR000001',\n",
              " './DICOM/ST000000/SE000000/MR000020',\n",
              " './DICOM/ST000000/SE000000/MR000005',\n",
              " './DICOM/ST000000/SE000000/MR000126',\n",
              " './DICOM/ST000000/SE000000/MR000103',\n",
              " './DICOM/ST000000/SE000000/MR000014',\n",
              " './DICOM/ST000000/SE000000/MR000000',\n",
              " './DICOM/ST000000/SE000000/MR000049',\n",
              " './DICOM/ST000000/SE000000/MR000053',\n",
              " './DICOM/ST000000/SE000000/MR000008',\n",
              " './DICOM/ST000000/SE000000/MR000010',\n",
              " './DICOM/ST000000/SE000000/MR000087',\n",
              " './DICOM/ST000000/SE000000/MR000016',\n",
              " './DICOM/ST000000/SE000000/MR000119',\n",
              " './DICOM/ST000000/SE000000/MR000102',\n",
              " './DICOM/ST000000/SE000000/MR000038',\n",
              " './DICOM/ST000000/SE000000/MR000114',\n",
              " './DICOM/ST000000/SE000000/MR000018',\n",
              " './DICOM/ST000000/SE000000/MR000084',\n",
              " './DICOM/ST000000/SE000000/MR000047',\n",
              " './DICOM/ST000000/SE000000/MR000116',\n",
              " './DICOM/ST000000/SE000000/MR000033',\n",
              " './DICOM/ST000000/SE000000/MR000109',\n",
              " './DICOM/ST000000/SE000000/MR000073',\n",
              " './DICOM/ST000000/SE000000/MR000042',\n",
              " './DICOM/ST000000/SE000000/MR000081',\n",
              " './DICOM/ST000000/SE000000/MR000024',\n",
              " './DICOM/ST000000/SE000000/MR000125',\n",
              " './DICOM/ST000000/SE000000/MR000061',\n",
              " './DICOM/ST000000/SE000000/MR000104',\n",
              " './DICOM/ST000000/SE000000/MR000113',\n",
              " './DICOM/ST000000/SE000000/MR000044',\n",
              " './DICOM/ST000000/SE000000/MR000025',\n",
              " './DICOM/ST000000/SE000000/MR000058',\n",
              " './DICOM/ST000000/SE000000/MR000050',\n",
              " './DICOM/ST000000/SE000000/MR000097',\n",
              " './DICOM/ST000000/SE000000/MR000055',\n",
              " './DICOM/ST000000/SE000000/MR000091',\n",
              " './DICOM/ST000000/SE000000/MR000083',\n",
              " './DICOM/ST000000/SE000000/MR000062',\n",
              " './DICOM/ST000000/SE000000/MR000120',\n",
              " './DICOM/ST000000/SE000000/MR000122',\n",
              " './DICOM/ST000000/SE000000/MR000076']"
            ]
          },
          "metadata": {}
        }
      ],
      "execution_count": 7,
      "metadata": {
        "collapsed": false,
        "outputHidden": false,
        "inputHidden": false
      }
    },
    {
      "cell_type": "code",
      "source": [
        "def histogram_equalization(img, no_bins):\n",
        "    \n",
        "    #img- the image as a numpy.array\n",
        "    #the appropriate number of bins, `no_bins` in the histogram is chosen by experiments, \n",
        "    #until the contrast is convenient\n",
        "    \n",
        "    image_hist, bins = np.histogram(img.flatten(), no_bins, normed=True)\n",
        "    csum = image_hist.cumsum() \n",
        "    cdf_mult = np.max(img) * csum / csum[-1] # cdf multiplied by a factor\n",
        "\n",
        "    #  linear interpolation of cdf_mult to get new pixel values\n",
        "    im_new = np.interp(img.flatten(), bins[:-1],  cdf_mult)\n",
        "\n",
        "    return im_new.reshape(img.shape), cdf_mult\n",
        "\n\n",
        "pl_bone=[[0.0, 'rgb(0, 0, 0)'],\n",
        "         [0.05, 'rgb(10, 10, 14)'],\n",
        "         [0.1, 'rgb(21, 21, 30)'],\n",
        "         [0.15, 'rgb(33, 33, 46)'],\n",
        "         [0.2, 'rgb(44, 44, 62)'],\n",
        "         [0.25, 'rgb(56, 55, 77)'],\n",
        "         [0.3, 'rgb(66, 66, 92)'],\n",
        "         [0.35, 'rgb(77, 77, 108)'],\n",
        "         [0.4, 'rgb(89, 92, 121)'],\n",
        "         [0.45, 'rgb(100, 107, 132)'],\n",
        "         [0.5, 'rgb(112, 123, 143)'],\n",
        "         [0.55, 'rgb(122, 137, 154)'],\n",
        "         [0.6, 'rgb(133, 153, 165)'],\n",
        "         [0.65, 'rgb(145, 169, 177)'],\n",
        "         [0.7, 'rgb(156, 184, 188)'],\n",
        "         [0.75, 'rgb(168, 199, 199)'],\n",
        "         [0.8, 'rgb(185, 210, 210)'],\n",
        "         [0.85, 'rgb(203, 221, 221)'],\n",
        "         [0.9, 'rgb(220, 233, 233)'],\n",
        "         [0.95, 'rgb(238, 244, 244)'],\n",
        "         [1.0, 'rgb(255, 255, 255)']]\n",
        "\n\n",
        "def get_pl_image(dicom_filename, hist_equal=False, no_bins=None):\n",
        "    #dicom_filename- a string 'filename.dcm'\n",
        "    #no_bins is the number of bins for histogram when hist_equal=False, else it is None\n",
        "    #returns the np.array that defines the z-value for the heatmap representing the dicom image\n",
        "    \n",
        "    dic_file=pydicom.read_file(dicom_filename)\n",
        "    img=dic_file.pixel_array#get the image as a numpy.array\n",
        "    if hist_equal and isinstance(no_bins, int):\n",
        "        img_new=histogram_equalization(img, no_bins)[0]\n",
        "        img_new=np.array(img_new, dtype=np.int16)\n",
        "        return np.flipud(img_new)\n",
        "    else:\n",
        "        return np.flipud(img)\n",
        "    \n",
        "    \n",
        "def DICOM_heatmap(z, title, width=600, height=600, colorscale=pl_bone):\n",
        "\n",
        "    data=[dict(type='heatmap', \n",
        "           z=z, \n",
        "           colorscale=colorscale, \n",
        "           zsmooth='best',\n",
        "           colorbar=dict(thickness=20, ticklen=4),  \n",
        "              )\n",
        "         ]\n",
        "\n",
        "    axis=dict(zeroline=False, showgrid=False, ticklen=4)\n",
        "    layout=dict(width=600, height=600,\n",
        "            font=dict(family='Balto', size=12),\n",
        "            xaxis= dict(axis),\n",
        "            yaxis= dict(axis),\n",
        "            title= title\n",
        "            )\n",
        "    return  dict(data=data, layout=layout)\n"
      ],
      "outputs": [],
      "execution_count": 8,
      "metadata": {
        "collapsed": false,
        "outputHidden": false,
        "inputHidden": false
      }
    },
    {
      "cell_type": "code",
      "source": [
        "title1=\"Plotly viz of a DICOM medical image<br>\"+\\\n",
        "\"Data set: <a href='http://www.barre.nom.fr/medical/samples/'>[1]</a>\"\n",
        "pl_img1=get_pl_image(list_of_files[15])#this DICOM file has no extension\n",
        "fig1=DICOM_heatmap(pl_img1, title1)\n",
        "py.plotly.iplot(fig1, filename='DICOM-img-MRIs')"
      ],
      "outputs": [
        {
          "output_type": "execute_result",
          "execution_count": 15,
          "data": {
            "text/html": [
              "<iframe id=\"igraph\" scrolling=\"no\" style=\"border:none;\" seamless=\"seamless\" src=\"https://plot.ly/~VioS/3.embed\" height=\"600px\" width=\"600px\"></iframe>"
            ],
            "text/plain": [
              "<plotly.tools.PlotlyDisplay object>"
            ]
          },
          "metadata": {}
        }
      ],
      "execution_count": 15,
      "metadata": {
        "collapsed": false,
        "outputHidden": false,
        "inputHidden": false
      }
    },
    {
      "cell_type": "code",
      "source": [
        "images = []\n",
        "for i in range(len(list_of_files)):\n",
        "       images.append(get_pl_image(list_of_files[i])) "
      ],
      "outputs": [],
      "execution_count": 19,
      "metadata": {
        "collapsed": false,
        "outputHidden": false,
        "inputHidden": false
      }
    },
    {
      "cell_type": "code",
      "source": [
        "import time\n",
        "\n",
        "for i in range(len(list_of_files)):\n",
        "    py.plotly.iplot(DICOM_heatmap(images[i], \"title\"))\n",
        "    time.sleep(0.1)"
      ],
      "outputs": [],
      "execution_count": 23,
      "metadata": {
        "collapsed": false,
        "outputHidden": false,
        "inputHidden": false
      }
    },
    {
      "cell_type": "code",
      "source": [
        "DICOM_heatmap(images[1], \"title\")"
      ],
      "outputs": [],
      "execution_count": null,
      "metadata": {
        "collapsed": false,
        "outputHidden": false,
        "inputHidden": false
      }
    }
  ],
  "metadata": {
    "kernel_info": {
      "name": "python3"
    },
    "language_info": {
      "mimetype": "text/x-python",
      "nbconvert_exporter": "python",
      "name": "python",
      "pygments_lexer": "ipython2",
      "version": "2.7.15rc1",
      "file_extension": ".py",
      "codemirror_mode": {
        "version": 2,
        "name": "ipython"
      }
    },
    "kernelspec": {
      "name": "python3",
      "language": "python",
      "display_name": "Python 3"
    },
    "nteract": {
      "version": "0.12.3"
    }
  },
  "nbformat": 4,
  "nbformat_minor": 4
}