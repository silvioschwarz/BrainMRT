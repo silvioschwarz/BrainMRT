{
  "cells": [
    {
      "cell_type": "code",
      "source": [
        "#%matplotlib inline\n",
        "#%reload_ext signature\n",
        "\n",
        "import numpy as np\n",
        "import pydicom\n",
        "import os\n",
        "import matplotlib.pyplot as plt\n",
        "from glob import glob\n",
        "from mpl_toolkits.mplot3d.art3d import Poly3DCollection\n",
        "import scipy.ndimage\n",
        "from skimage import morphology\n",
        "from skimage import measure\n",
        "from skimage.transform import resize\n",
        "from sklearn.cluster import KMeans\n",
        "from plotly import __version__\n",
        "from plotly.offline import download_plotlyjs, init_notebook_mode, plot, iplot\n",
        "from plotly import figure_factory as FF\n",
        "from plotly.graph_objs import *\n",
        "init_notebook_mode(connected=True) \n",
        "\n",
        "import matplotlib.image as img\n",
        "WD = os.getcwd()\n",
        "print(WD)"
      ],
      "outputs": [
        {
          "output_type": "display_data",
          "data": {
            "text/vnd.plotly.v1+html": [
              "<script type=\"text/javascript\">window.PlotlyConfig = {MathJaxConfig: 'local'};</script><script type=\"text/javascript\">if (window.MathJax) {MathJax.Hub.Config({SVG: {font: \"STIX-Web\"}});}</script><script>requirejs.config({paths: { 'plotly': ['https://cdn.plot.ly/plotly-latest.min']},});if(!window._Plotly) {require(['plotly'],function(plotly) {window._Plotly=plotly;});}</script>"
            ],
            "text/html": [
              "<script type=\"text/javascript\">window.PlotlyConfig = {MathJaxConfig: 'local'};</script><script type=\"text/javascript\">if (window.MathJax) {MathJax.Hub.Config({SVG: {font: \"STIX-Web\"}});}</script><script>requirejs.config({paths: { 'plotly': ['https://cdn.plot.ly/plotly-latest.min']},});if(!window._Plotly) {require(['plotly'],function(plotly) {window._Plotly=plotly;});}</script>"
            ]
          },
          "metadata": {}
        },
        {
          "output_type": "stream",
          "name": "stdout",
          "text": [
            "/home/silvio/Dokumente/GitHub\n"
          ]
        }
      ],
      "execution_count": 1,
      "metadata": {}
    },
    {
      "cell_type": "code",
      "source": [
        "def make_mesh(image, threshold=-300, step_size=1):\n",
        "\n",
        "    print(\"Transposing surface\")\n",
        "    p = image.transpose(2,1,0)\n",
        "    \n",
        "    print(\"Calculating surface\")\n",
        "    verts, faces, norm, val = measure.marching_cubes_lewiner(p, threshold, step_size=step_size, allow_degenerate=True) \n",
        "    return verts, faces\n",
        "\n",
        "def plotly_3d(verts, faces):\n",
        "    x,y,z = zip(*verts) \n",
        "    \n",
        "    print(\"Drawing\")\n",
        "    \n",
        "    # Make the colormap single color since the axes are positional not intensity. \n",
        "#    colormap=['rgb(255,105,180)','rgb(255,255,51)','rgb(0,191,255)']\n",
        "    colormap=['rgb(236, 236, 212)','rgb(236, 236, 212)']\n",
        "    \n",
        "    fig = FF.create_trisurf(\n",
        "        x=x,\n",
        "                        y=y, \n",
        "                        z=z, \n",
        "                        plot_edges=False,\n",
        "                        colormap=colormap,\n",
        "                        simplices=faces,\n",
        "                        backgroundcolor='rgb(64, 64, 64)',\n",
        "                        title=\"Interactive Visualization\")\n",
        "    iplot(fig)"
      ],
      "outputs": [],
      "execution_count": 2,
      "metadata": {}
    },
    {
      "cell_type": "code",
      "source": [
        "# Resampled Images\n",
        "\n",
        "outputPath = \"./data/\"\n",
        "id=0\n",
        "\n",
        "listung = list([1,2,3,4,5,6,7,8,9,10,11,12,13,14])\n",
        "#9,10\n",
        "\n",
        "i=14\n",
        "#images_resamp = np.load(outputPath+\"resampledImages/\"+'resampled_images_{}_{}.npy'.format(id,i))\n",
        "\n",
        "#plotly\n",
        "#v, f = make_mesh(images_resamp, 350, 2)\n",
        "#plotly_3d(v, f)"
      ],
      "outputs": [],
      "execution_count": 5,
      "metadata": {}
    },
    {
      "cell_type": "code",
      "source": [
        "#Full Images\n",
        "\n\n",
        "outputPath = \"./data/\"\n",
        "id=0\n",
        "\n",
        "listung = list([1,2,3,4,5,6,7,8,9,10,11,12,13,14])\n",
        "#9,10\n",
        "\n",
        "i=9\n",
        "#images = np.load(outputPath+\"fullImages/\"+'fullimages_{}_{}.npy'.format(id,i))\n",
        "\n",
        "#plotly\n",
        "#v, f = make_mesh(images, 350, 2)\n",
        "#plotly_3d(v, f)"
      ],
      "outputs": [],
      "execution_count": 6,
      "metadata": {}
    },
    {
      "cell_type": "code",
      "source": [],
      "outputs": [],
      "execution_count": null,
      "metadata": {}
    }
  ],
  "metadata": {
    "kernelspec": {
      "name": "python3",
      "language": "python",
      "display_name": "Python 3"
    },
    "language_info": {
      "mimetype": "text/x-python",
      "nbconvert_exporter": "python",
      "name": "python",
      "pygments_lexer": "ipython2",
      "version": "2.7.15rc1",
      "file_extension": ".py",
      "codemirror_mode": {
        "version": 2,
        "name": "ipython"
      }
    },
    "kernel_info": {
      "name": "python3"
    },
    "nteract": {
      "version": "0.12.3"
    }
  },
  "nbformat": 4,
  "nbformat_minor": 2
}